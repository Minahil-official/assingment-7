{
 "cells": [
  {
   "cell_type": "code",
   "execution_count": 1,
   "metadata": {},
   "outputs": [
    {
     "name": "stdout",
     "output_type": "stream",
     "text": [
      "nawaz how are you doing today\n"
     ]
    }
   ],
   "source": [
    "name = str(input(\"enter your name\"))\n",
    "print(name,\"how are you doing today\")"
   ]
  },
  {
   "cell_type": "code",
   "execution_count": 2,
   "metadata": {},
   "outputs": [
    {
     "name": "stdout",
     "output_type": "stream",
     "text": [
      "[6, 4, 7]\n"
     ]
    }
   ],
   "source": [
    "list = []\n",
    "for i in range(1,4):\n",
    "    num = int(input(f\"enter you {i} favourite number:\"))\n",
    "    list.append(num)\n",
    "    \n",
    "print(list)"
   ]
  },
  {
   "cell_type": "code",
   "execution_count": 3,
   "metadata": {},
   "outputs": [
    {
     "name": "stdout",
     "output_type": "stream",
     "text": [
      "the number 6 is even\n",
      "the number 4 is even\n",
      "the number7is odd\n"
     ]
    }
   ],
   "source": [
    "for num in list:\n",
    "    if num % 2 == 0:\n",
    "        print(f\"the number {num} is even\")\n",
    "    else:\n",
    "        print(f\"the number{num}is odd\")"
   ]
  },
  {
   "cell_type": "code",
   "execution_count": 4,
   "metadata": {},
   "outputs": [
    {
     "name": "stdout",
     "output_type": "stream",
     "text": [
      "here is the number and its square is (6, 36)\n",
      "here is the number and its square is (4, 16)\n",
      "here is the number and its square is (7, 49)\n"
     ]
    }
   ],
   "source": [
    "tu = tuple(list)\n",
    "for num in list:\n",
    "   print(\"here is the number and its square is\",(num,num**2))"
   ]
  },
  {
   "cell_type": "code",
   "execution_count": 5,
   "metadata": {},
   "outputs": [
    {
     "name": "stdout",
     "output_type": "stream",
     "text": [
      "here is the sum of your favourite numbers 17\n"
     ]
    }
   ],
   "source": [
    "total = 0\n",
    "for num in list:\n",
    "   total = total + num  \n",
    "print(f\"here is the sum of your favourite numbers\",total)"
   ]
  },
  {
   "cell_type": "markdown",
   "metadata": {},
   "source": []
  },
  {
   "cell_type": "code",
   "execution_count": 28,
   "metadata": {},
   "outputs": [
    {
     "name": "stdout",
     "output_type": "stream",
     "text": [
      "its a prime number\n"
     ]
    }
   ],
   "source": [
    "is_prime = True\n",
    "if total <= 1 :\n",
    "     is_prime = False \n",
    "for x in range(2,total):\n",
    "    if total % x == 0 :\n",
    "          is_prime = False\n",
    "if is_prime == True:\n",
    "     print('its a prime number')\n",
    "else:\n",
    "     print(\"its not a prime number\")"
   ]
  }
 ],
 "metadata": {
  "kernelspec": {
   "display_name": "Python 3",
   "language": "python",
   "name": "python3"
  },
  "language_info": {
   "codemirror_mode": {
    "name": "ipython",
    "version": 3
   },
   "file_extension": ".py",
   "mimetype": "text/x-python",
   "name": "python",
   "nbconvert_exporter": "python",
   "pygments_lexer": "ipython3",
   "version": "3.12.5"
  }
 },
 "nbformat": 4,
 "nbformat_minor": 2
}
